{
 "cells": [
  {
   "cell_type": "markdown",
   "id": "374a0718",
   "metadata": {},
   "source": [
    "# **NLP Fake News Classifier Model Development Notebook**\n",
    "\n",
    "This notebook will serve as an environment to develop the fake news classifier for our web application. For future development phases, I hope this notebook will serve you well in terms of how the model is made, and its overall documentation in your development.\n",
    "\n",
    "In this notebook, we aim to achieve the following:\n",
    "\n",
    "- Load the dataset and prepare the Tagalog Fake News [dataset](https://huggingface.co/datasets/jcblaise/fake_news_filipino) for preprocessing\n",
    "- Preprocess the dataset for training.\n",
    "  - Use the following tools at your disposal, since Tagalog is a low-resource language:\n",
    "    - [stopwords-tl](https://github.com/stopwords-iso/stopwords-tl)\n",
    "    - [tagalog-stemmer](https://github.com/andrianllmm/tagalog-stemmer)\n",
    "    - [calamanCy](https://github.com/ljvmiranda921/calamanCy)\n",
    "- Train the following machine learning models:\n",
    "  - Logistic Regression\n",
    "  - Multinomial Naive Bayes\n",
    "  - Support Vector Machine\n",
    "  - Random Forests\n",
    "- Evaluate the performance of each machine learning model\n",
    "- Use 3-5 trained models for the ensemble approach\n",
    "- Perform inference on sample data with [LIME](https://github.com/marcotcr/lime.git)"
   ]
  },
  {
   "cell_type": "markdown",
   "id": "6b04d8f7",
   "metadata": {},
   "source": [
    "## **OBJECTIVE 1** \n",
    "\n",
    "Load the two Tagalog Fake News dataset for preprocessing ([here](https://huggingface.co/datasets/jcblaise/fake_news_filipino), and [here](https://github.com/aaroncarlfernandez/Philippine-Fake-News-Corpus))"
   ]
  },
  {
   "cell_type": "code",
   "execution_count": 38,
   "id": "fba0c9ae",
   "metadata": {},
   "outputs": [],
   "source": [
    "from datasets import load_dataset\n",
    "dataset_dict = load_dataset(\"jcblaise/fake_news_filipino\", trust_remote_code=True)\n",
    "\n",
    "dataset = dataset_dict['train']\n",
    "\n",
    "labels = []\n",
    "articles = []\n",
    "for data in dataset:\n",
    "    labels.append(data['label'])\n",
    "    articles.append(data['article'])"
   ]
  },
  {
   "cell_type": "markdown",
   "id": "f8dc9b5b",
   "metadata": {},
   "source": [
    "For our second dataset, we will only take the `Content` and `Label` features."
   ]
  },
  {
   "cell_type": "code",
   "execution_count": 39,
   "id": "fd04b157",
   "metadata": {},
   "outputs": [
    {
     "data": {
      "text/html": [
       "<div>\n",
       "<style scoped>\n",
       "    .dataframe tbody tr th:only-of-type {\n",
       "        vertical-align: middle;\n",
       "    }\n",
       "\n",
       "    .dataframe tbody tr th {\n",
       "        vertical-align: top;\n",
       "    }\n",
       "\n",
       "    .dataframe thead th {\n",
       "        text-align: right;\n",
       "    }\n",
       "</style>\n",
       "<table border=\"1\" class=\"dataframe\">\n",
       "  <thead>\n",
       "    <tr style=\"text-align: right;\">\n",
       "      <th></th>\n",
       "      <th>Content</th>\n",
       "      <th>Label</th>\n",
       "    </tr>\n",
       "  </thead>\n",
       "  <tbody>\n",
       "    <tr>\n",
       "      <th>0</th>\n",
       "      <td>Pollution caused by traditional cooking fuel i...</td>\n",
       "      <td>Credible</td>\n",
       "    </tr>\n",
       "    <tr>\n",
       "      <th>1</th>\n",
       "      <td>Justice Secretary Vitaliano Aguirre 2nd and Ph...</td>\n",
       "      <td>Credible</td>\n",
       "    </tr>\n",
       "    <tr>\n",
       "      <th>2</th>\n",
       "      <td>President Rodrigo Duterte on Monday night desc...</td>\n",
       "      <td>Credible</td>\n",
       "    </tr>\n",
       "    <tr>\n",
       "      <th>3</th>\n",
       "      <td>THE militant fisher folk group Pambansang Laka...</td>\n",
       "      <td>Credible</td>\n",
       "    </tr>\n",
       "    <tr>\n",
       "      <th>4</th>\n",
       "      <td>Magdalo Rep. Gary Alejano is willing to lead t...</td>\n",
       "      <td>Credible</td>\n",
       "    </tr>\n",
       "  </tbody>\n",
       "</table>\n",
       "</div>"
      ],
      "text/plain": [
       "                                             Content     Label\n",
       "0  Pollution caused by traditional cooking fuel i...  Credible\n",
       "1  Justice Secretary Vitaliano Aguirre 2nd and Ph...  Credible\n",
       "2  President Rodrigo Duterte on Monday night desc...  Credible\n",
       "3  THE militant fisher folk group Pambansang Laka...  Credible\n",
       "4  Magdalo Rep. Gary Alejano is willing to lead t...  Credible"
      ]
     },
     "execution_count": 39,
     "metadata": {},
     "output_type": "execute_result"
    }
   ],
   "source": [
    "import pandas as pd\n",
    "df = pd.read_csv('./data/Philippine Fake News Corpus.csv')\n",
    "df.dropna()\n",
    "df = df[['Content', 'Label']]\n",
    "df.head()"
   ]
  },
  {
   "cell_type": "code",
   "execution_count": 40,
   "id": "fceb6d60",
   "metadata": {},
   "outputs": [],
   "source": [
    "# Custom mapping\n",
    "labels2 = list(df['Label'].map({'Credible': 0, 'Not Credible': 1})) # 0: Real News, 1: Fake News\n",
    "articles2 = list(df['Content'].values)"
   ]
  },
  {
   "cell_type": "code",
   "execution_count": 41,
   "id": "2f1458db",
   "metadata": {},
   "outputs": [
    {
     "data": {
      "text/plain": [
       "(3206, 3206)"
      ]
     },
     "execution_count": 41,
     "metadata": {},
     "output_type": "execute_result"
    }
   ],
   "source": [
    "len(labels), len(articles)"
   ]
  },
  {
   "cell_type": "code",
   "execution_count": 42,
   "id": "5606b96f",
   "metadata": {},
   "outputs": [
    {
     "data": {
      "text/plain": [
       "(22458, 22458)"
      ]
     },
     "execution_count": 42,
     "metadata": {},
     "output_type": "execute_result"
    }
   ],
   "source": [
    "len(labels2), len(articles2)"
   ]
  },
  {
   "cell_type": "code",
   "execution_count": 43,
   "id": "d3bc9a45",
   "metadata": {},
   "outputs": [],
   "source": [
    "# combine two lists\n",
    "labels.extend(labels2)\n",
    "articles.extend(articles2)"
   ]
  },
  {
   "cell_type": "code",
   "execution_count": 44,
   "id": "d468ca50",
   "metadata": {},
   "outputs": [
    {
     "data": {
      "text/plain": [
       "(25664, 25664)"
      ]
     },
     "execution_count": 44,
     "metadata": {},
     "output_type": "execute_result"
    }
   ],
   "source": [
    "len(labels), len(articles)"
   ]
  },
  {
   "cell_type": "markdown",
   "id": "1297d506",
   "metadata": {},
   "source": [
    "Now that our dataset is separated into lists, we can transfer them to `pandas`' dataframe object for ease of use."
   ]
  },
  {
   "cell_type": "code",
   "execution_count": 45,
   "id": "4450b376",
   "metadata": {},
   "outputs": [
    {
     "data": {
      "text/html": [
       "<div>\n",
       "<style scoped>\n",
       "    .dataframe tbody tr th:only-of-type {\n",
       "        vertical-align: middle;\n",
       "    }\n",
       "\n",
       "    .dataframe tbody tr th {\n",
       "        vertical-align: top;\n",
       "    }\n",
       "\n",
       "    .dataframe thead th {\n",
       "        text-align: right;\n",
       "    }\n",
       "</style>\n",
       "<table border=\"1\" class=\"dataframe\">\n",
       "  <thead>\n",
       "    <tr style=\"text-align: right;\">\n",
       "      <th></th>\n",
       "      <th>articles</th>\n",
       "      <th>labels</th>\n",
       "    </tr>\n",
       "  </thead>\n",
       "  <tbody>\n",
       "    <tr>\n",
       "      <th>0</th>\n",
       "      <td>Ayon sa TheWrap.com, naghain ng kaso si Krupa,...</td>\n",
       "      <td>0</td>\n",
       "    </tr>\n",
       "    <tr>\n",
       "      <th>1</th>\n",
       "      <td>Kilala rin ang singer sa pagkumpas ng kanyang ...</td>\n",
       "      <td>0</td>\n",
       "    </tr>\n",
       "    <tr>\n",
       "      <th>2</th>\n",
       "      <td>BLANTYRE, Malawi (AP) -- Bumiyahe patungong Ma...</td>\n",
       "      <td>0</td>\n",
       "    </tr>\n",
       "    <tr>\n",
       "      <th>3</th>\n",
       "      <td>Kasama sa programa ang pananalangin, bulaklak ...</td>\n",
       "      <td>0</td>\n",
       "    </tr>\n",
       "    <tr>\n",
       "      <th>4</th>\n",
       "      <td>Linisin ang Friendship Department dahil dadala...</td>\n",
       "      <td>0</td>\n",
       "    </tr>\n",
       "  </tbody>\n",
       "</table>\n",
       "</div>"
      ],
      "text/plain": [
       "                                            articles  labels\n",
       "0  Ayon sa TheWrap.com, naghain ng kaso si Krupa,...       0\n",
       "1  Kilala rin ang singer sa pagkumpas ng kanyang ...       0\n",
       "2  BLANTYRE, Malawi (AP) -- Bumiyahe patungong Ma...       0\n",
       "3  Kasama sa programa ang pananalangin, bulaklak ...       0\n",
       "4  Linisin ang Friendship Department dahil dadala...       0"
      ]
     },
     "execution_count": 45,
     "metadata": {},
     "output_type": "execute_result"
    }
   ],
   "source": [
    "import pandas as pd\n",
    "df = pd.DataFrame({\n",
    "    \"articles\": articles,\n",
    "    \"labels\": labels\n",
    "})\n",
    "df.head()"
   ]
  },
  {
   "cell_type": "code",
   "execution_count": 48,
   "id": "8ff27a3f",
   "metadata": {},
   "outputs": [
    {
     "data": {
      "text/html": [
       "<div>\n",
       "<style scoped>\n",
       "    .dataframe tbody tr th:only-of-type {\n",
       "        vertical-align: middle;\n",
       "    }\n",
       "\n",
       "    .dataframe tbody tr th {\n",
       "        vertical-align: top;\n",
       "    }\n",
       "\n",
       "    .dataframe thead th {\n",
       "        text-align: right;\n",
       "    }\n",
       "</style>\n",
       "<table border=\"1\" class=\"dataframe\">\n",
       "  <thead>\n",
       "    <tr style=\"text-align: right;\">\n",
       "      <th></th>\n",
       "      <th>articles</th>\n",
       "      <th>labels</th>\n",
       "    </tr>\n",
       "  </thead>\n",
       "  <tbody>\n",
       "    <tr>\n",
       "      <th>1664</th>\n",
       "      <td>Inuulan ngayon ng batikos ang dilawang mamamah...</td>\n",
       "      <td>1</td>\n",
       "    </tr>\n",
       "    <tr>\n",
       "      <th>8849</th>\n",
       "      <td>The passage of the proposed 2019 P3.757 trilli...</td>\n",
       "      <td>0</td>\n",
       "    </tr>\n",
       "    <tr>\n",
       "      <th>9792</th>\n",
       "      <td>House Majority Leader Neptali Gonzales II: Bet...</td>\n",
       "      <td>0</td>\n",
       "    </tr>\n",
       "    <tr>\n",
       "      <th>25147</th>\n",
       "      <td>taped greeting to former President Fidel V. Ra...</td>\n",
       "      <td>0</td>\n",
       "    </tr>\n",
       "    <tr>\n",
       "      <th>18783</th>\n",
       "      <td>I recently shared my colleague Benign0’s artic...</td>\n",
       "      <td>1</td>\n",
       "    </tr>\n",
       "  </tbody>\n",
       "</table>\n",
       "</div>"
      ],
      "text/plain": [
       "                                                articles  labels\n",
       "1664   Inuulan ngayon ng batikos ang dilawang mamamah...       1\n",
       "8849   The passage of the proposed 2019 P3.757 trilli...       0\n",
       "9792   House Majority Leader Neptali Gonzales II: Bet...       0\n",
       "25147  taped greeting to former President Fidel V. Ra...       0\n",
       "18783  I recently shared my colleague Benign0’s artic...       1"
      ]
     },
     "execution_count": 48,
     "metadata": {},
     "output_type": "execute_result"
    }
   ],
   "source": [
    "# let's shuffle first to ensure both dataset are scattered throughout the df\n",
    "from sklearn.utils import shuffle\n",
    "\n",
    "# Shuffle entire DataFrame\n",
    "df = shuffle(df, random_state=42)\n",
    "df.head()"
   ]
  },
  {
   "cell_type": "markdown",
   "id": "9dd5a99f",
   "metadata": {},
   "source": [
    "This is actually enough. But before we proceed, we need to ensure data integrity before we send it to preprocessing."
   ]
  },
  {
   "cell_type": "code",
   "execution_count": 46,
   "id": "f495ddb1",
   "metadata": {},
   "outputs": [
    {
     "name": "stdout",
     "output_type": "stream",
     "text": [
      "<class 'pandas.core.frame.DataFrame'>\n",
      "RangeIndex: 25664 entries, 0 to 25663\n",
      "Data columns (total 2 columns):\n",
      " #   Column    Non-Null Count  Dtype \n",
      "---  ------    --------------  ----- \n",
      " 0   articles  25664 non-null  object\n",
      " 1   labels    25664 non-null  int64 \n",
      "dtypes: int64(1), object(1)\n",
      "memory usage: 401.1+ KB\n"
     ]
    }
   ],
   "source": [
    "df.info()"
   ]
  },
  {
   "cell_type": "markdown",
   "id": "9a1ddb7a",
   "metadata": {},
   "source": [
    "So far, we have correct data types, complete number of data, and is of non-null.\n",
    "\n",
    "Let's see the distribution of word counts to see if there are outliers."
   ]
  },
  {
   "cell_type": "code",
   "execution_count": 57,
   "id": "221e0f59",
   "metadata": {},
   "outputs": [
    {
     "data": {
      "image/png": "[encoded data removed]",
      "text/plain": [
       "<Figure size 1000x600 with 1 Axes>"
      ]
     },
     "metadata": {},
     "output_type": "display_data"
    }
   ],
   "source": [
    "import matplotlib.pyplot as plt\n",
    "import seaborn as sns\n",
    "\n",
    "word_counts = [len(text.split()) for text in articles]\n",
    "\n",
    "plt.figure(figsize=(10, 6))\n",
    "sns.histplot(word_counts, bins=50)\n",
    "plt.title('Histogram of Word Counts')\n",
    "plt.xlim(-25, 3000)\n",
    "plt.xlabel('Word Count')\n",
    "plt.ylabel('Frequency')\n",
    "plt.show()"
   ]
  },
  {
   "cell_type": "markdown",
   "id": "ba74b849",
   "metadata": {},
   "source": [
    "Notice that we have an unusual word count (over 400!) of articles between 0 and 200. Let's plot the word count for each class and see the word count distribution for each class."
   ]
  },
  {
   "cell_type": "code",
   "execution_count": 55,
   "id": "90b38ca7",
   "metadata": {},
   "outputs": [
    {
     "data": {
      "image/png": "[encoded data removed]",
      "text/plain": [
       "<Figure size 1200x600 with 1 Axes>"
      ]
     },
     "metadata": {},
     "output_type": "display_data"
    }
   ],
   "source": [
    "df['word_count'] = df['articles'].apply(lambda x: len(x.split()))\n",
    "\n",
    "# Plotting the histograms\n",
    "plt.figure(figsize=(12, 6))\n",
    "sns.histplot(df[df['labels'] == 1]['word_count'], bins=50, kde=False, color='red', label='Fake News', alpha=0.6)\n",
    "sns.histplot(df[df['labels'] == 0]['word_count'], bins=50, kde=False, color='blue', label='Not Fake News', alpha=0.6)\n",
    "\n",
    "plt.title('Histogram of Word Counts by News Type')\n",
    "plt.xlabel('Word Count')\n",
    "plt.xlim(-25, 3000)\n",
    "plt.ylabel('Frequency')\n",
    "plt.legend()\n",
    "\n",
    "plt.show()"
   ]
  },
  {
   "cell_type": "markdown",
   "id": "4562cb7d",
   "metadata": {},
   "source": [
    "Interesting. It seems that most articles that are not fake news are over 8000 instances, while the fake news are considerably lower.\n",
    "\n",
    "We need to take this into account when training, as it may not be able to generalize well, or perhaps even overfit in the not fake news class due to high word count."
   ]
  },
  {
   "cell_type": "code",
   "execution_count": 61,
   "id": "9b7a251c",
   "metadata": {},
   "outputs": [
    {
     "data": {
      "image/png": "[encoded data removed]",
      "text/plain": [
       "<Figure size 640x480 with 1 Axes>"
      ]
     },
     "metadata": {},
     "output_type": "display_data"
    }
   ],
   "source": [
    "df['labels'].value_counts().plot(kind='bar')\n",
    "plt.title('Distribution of Classes')\n",
    "plt.xlabel('Class')\n",
    "plt.ylabel('Count')\n",
    "plt.show()"
   ]
  },
  {
   "cell_type": "markdown",
   "id": "a9c92d9d",
   "metadata": {},
   "source": [
    "## **OBJECTIVE 2**\n",
    "- Preprocess the dataset for training.\n",
    "  - Use the following tools at your disposal, since Tagalog is a low-resource language:\n",
    "    - [stopwords-tl](https://github.com/stopwords-iso/stopwords-tl)\n",
    "    - [tagalog-stemmer](https://github.com/andrianllmm/tagalog-stemmer)\n",
    "    - or use [calamanCy](https://github.com/ljvmiranda921/calamanCy) for lemmatization"
   ]
  },
  {
   "cell_type": "code",
   "execution_count": 2,
   "id": "d6ea3587",
   "metadata": {},
   "outputs": [],
   "source": [
    "from pathlib import Path\n",
    "def load_stopwords(path: Path = Path(\"./stopwords-tl.txt\")):\n",
    "    \"\"\" Opens the tagalog stopwords file \"\"\"\n",
    "    with open(path, \"r\", encoding=\"utf-8\") as f:\n",
    "        return [line.strip() for line in f.readlines()]"
   ]
  },
  {
   "cell_type": "code",
   "execution_count": 3,
   "id": "65582fca",
   "metadata": {},
   "outputs": [
    {
     "name": "stderr",
     "output_type": "stream",
     "text": [
      "c:\\Users\\admin\\Desktop\\Classes\\2nd sem\\NLP\\NLP Finals\\backend\\.venv\\Lib\\site-packages\\spacy\\util.py:918: UserWarning: [W094] Model 'tl_calamancy_md' (0.2.0) specifies an under-constrained spaCy version requirement: >=3.8.3. This can lead to compatibility problems with older versions, or as new spaCy versions are released, because the model may say it's compatible when it's not. Consider changing the \"spacy_version\" in your meta.json to a version range, with a lower and upper pin. For example: >=3.8.5,<3.9.0\n",
      "  warnings.warn(warn_msg)\n",
      "c:\\Users\\admin\\Desktop\\Classes\\2nd sem\\NLP\\NLP Finals\\backend\\.venv\\Lib\\site-packages\\tqdm\\auto.py:21: TqdmWarning: IProgress not found. Please update jupyter and ipywidgets. See https://ipywidgets.readthedocs.io/en/stable/user_install.html\n",
      "  from .autonotebook import tqdm as notebook_tqdm\n",
      "c:\\Users\\admin\\Desktop\\Classes\\2nd sem\\NLP\\NLP Finals\\backend\\.venv\\Lib\\site-packages\\transformers\\utils\\generic.py:441: FutureWarning: `torch.utils._pytree._register_pytree_node` is deprecated. Please use `torch.utils._pytree.register_pytree_node` instead.\n",
      "  _torch_pytree._register_pytree_node(\n",
      "c:\\Users\\admin\\Desktop\\Classes\\2nd sem\\NLP\\NLP Finals\\backend\\.venv\\Lib\\site-packages\\transformers\\utils\\generic.py:309: FutureWarning: `torch.utils._pytree._register_pytree_node` is deprecated. Please use `torch.utils._pytree.register_pytree_node` instead.\n",
      "  _torch_pytree._register_pytree_node(\n",
      "[nltk_data] Downloading package punkt to\n",
      "[nltk_data]     C:\\Users\\admin\\AppData\\Roaming\\nltk_data...\n",
      "[nltk_data]   Package punkt is already up-to-date!\n",
      "[nltk_data] Downloading package stopwords to\n",
      "[nltk_data]     C:\\Users\\admin\\AppData\\Roaming\\nltk_data...\n",
      "[nltk_data]   Package stopwords is already up-to-date!\n",
      "[nltk_data] Downloading package wordnet to\n",
      "[nltk_data]     C:\\Users\\admin\\AppData\\Roaming\\nltk_data...\n",
      "[nltk_data]   Package wordnet is already up-to-date!\n"
     ]
    },
    {
     "data": {
      "text/plain": [
       "True"
      ]
     },
     "execution_count": 3,
     "metadata": {},
     "output_type": "execute_result"
    }
   ],
   "source": [
    "import nltk\n",
    "import calamancy\n",
    "\n",
    "nlp = calamancy.load(\"tl_calamancy_md-0.2.0\")\n",
    "tagalog_tl = load_stopwords()\n",
    "nltk.download('punkt')\n",
    "nltk.download('stopwords')\n",
    "nltk.download('wordnet')"
   ]
  },
  {
   "cell_type": "code",
   "execution_count": 4,
   "id": "ad716601",
   "metadata": {},
   "outputs": [],
   "source": [
    "import string\n",
    "from nltk.tokenize import word_tokenize\n",
    "from nltk.corpus import stopwords\n",
    "from nltk.stem import WordNetLemmatizer\n",
    "\n",
    "def preprocess_text(txt: str, calamancy_model, tl_stopwords, join: bool=True):\n",
    "    \"\"\"\n",
    "    Preprocesses input text by converting it to lowercase,\n",
    "    removing punctuation, applying Tagalog & English stopword removal,\n",
    "    and performing Tagalog & English lemmatization.\n",
    "\n",
    "    Args:\n",
    "        txt (str): Input text\n",
    "        calamancy_model: calamanCy model for Tagalog lemmatization\n",
    "        tl_stopwords (list): Tagalog stopword list\n",
    "        join (bool): Whether to return a joined string or list of tokens\n",
    "    \"\"\"\n",
    "    # Initialize English tools\n",
    "    en_stopwords = set(stopwords.words('english'))\n",
    "    lemmatizer = WordNetLemmatizer()\n",
    "\n",
    "    # Step 1: Lowercase\n",
    "    lower_text = txt.lower()\n",
    "\n",
    "    # Step 2: Remove punctuation\n",
    "    no_punc = lower_text.translate(str.maketrans('', '', string.punctuation))\n",
    "\n",
    "    # Step 3: Tokenize\n",
    "    tokenized = word_tokenize(no_punc)\n",
    "\n",
    "    # Step 4: Remove Tagalog and English stopwords\n",
    "    tokens_no_stop = [\n",
    "        token for token in tokenized\n",
    "        if token not in tl_stopwords and token not in en_stopwords\n",
    "    ]\n",
    "\n",
    "    # Step 5: Lemmatize with calamancy (Tagalog)\n",
    "    calamancy_doc = calamancy_model(' '.join(tokens_no_stop))\n",
    "    calamancy_lemmas = [token.lemma_ for token in calamancy_doc]\n",
    "\n",
    "    # Step 6: Lemmatize again with English lemmatizer (handles English tokens better)\n",
    "    final_tokens = [lemmatizer.lemmatize(token) for token in calamancy_lemmas]\n",
    "\n",
    "    # Step 7: Return\n",
    "    if join:\n",
    "        return ' '.join(final_tokens)\n",
    "    else:\n",
    "        return final_tokens"
   ]
  },
  {
   "cell_type": "code",
   "execution_count": 79,
   "id": "050c94d1",
   "metadata": {},
   "outputs": [
    {
     "name": "stdout",
     "output_type": "stream",
     "text": [
      "Umabante ang Americans sa playoffs sa Abril at may tsansang makabalik sa World Group na bubuuin ng top eight teams. Dinispatsa ni Venus Williams, ika-11 sa mundo, ang pag-asa ng Argentina na makabalik matapos niyang talunin si Maria Irigoyen, 6-1, 6-4.\n",
      "abante american playoff abril tsansa na balik world group bubuuin top eight team dinispatsa venus williams ika11 mundo pagasa argentina balik tapos talon si maria irigoyen 61 64\n"
     ]
    }
   ],
   "source": [
    "# apply prepreocessing sample\n",
    "sample_text = df['articles'].sample().item()\n",
    "print(sample_text)\n",
    "print(preprocess_text(str(sample_text), nlp, tagalog_tl, True))"
   ]
  },
  {
   "cell_type": "code",
   "execution_count": null,
   "id": "83d2ccf9",
   "metadata": {},
   "outputs": [],
   "source": [
    "# preprocessing the text\n",
    "# df['processed_text'] = df['articles'].apply(lambda doc: preprocess_text(doc, nlp, tagalog_tl, True))"
   ]
  },
  {
   "cell_type": "code",
   "execution_count": 87,
   "id": "61f47ccc",
   "metadata": {},
   "outputs": [
    {
     "data": {
      "text/html": [
       "<div>\n",
       "<style scoped>\n",
       "    .dataframe tbody tr th:only-of-type {\n",
       "        vertical-align: middle;\n",
       "    }\n",
       "\n",
       "    .dataframe tbody tr th {\n",
       "        vertical-align: top;\n",
       "    }\n",
       "\n",
       "    .dataframe thead th {\n",
       "        text-align: right;\n",
       "    }\n",
       "</style>\n",
       "<table border=\"1\" class=\"dataframe\">\n",
       "  <thead>\n",
       "    <tr style=\"text-align: right;\">\n",
       "      <th></th>\n",
       "      <th>articles</th>\n",
       "      <th>labels</th>\n",
       "      <th>word_count</th>\n",
       "      <th>processed_text</th>\n",
       "    </tr>\n",
       "  </thead>\n",
       "  <tbody>\n",
       "    <tr>\n",
       "      <th>1664</th>\n",
       "      <td>Inuulan ngayon ng batikos ang dilawang mamamah...</td>\n",
       "      <td>1</td>\n",
       "      <td>95</td>\n",
       "      <td>inuulan batikos dilawa na hayag si philip lust...</td>\n",
       "    </tr>\n",
       "    <tr>\n",
       "      <th>8849</th>\n",
       "      <td>The passage of the proposed 2019 P3.757 trilli...</td>\n",
       "      <td>0</td>\n",
       "      <td>625</td>\n",
       "      <td>passage proposed 2019 p3757 trillion national ...</td>\n",
       "    </tr>\n",
       "    <tr>\n",
       "      <th>9792</th>\n",
       "      <td>House Majority Leader Neptali Gonzales II: Bet...</td>\n",
       "      <td>0</td>\n",
       "      <td>1053</td>\n",
       "      <td>house majority leader neptali gonzales ii bett...</td>\n",
       "    </tr>\n",
       "    <tr>\n",
       "      <th>25147</th>\n",
       "      <td>taped greeting to former President Fidel V. Ra...</td>\n",
       "      <td>0</td>\n",
       "      <td>857</td>\n",
       "      <td>taped greeting former president fidel v ramos ...</td>\n",
       "    </tr>\n",
       "    <tr>\n",
       "      <th>18783</th>\n",
       "      <td>I recently shared my colleague Benign0’s artic...</td>\n",
       "      <td>1</td>\n",
       "      <td>2359</td>\n",
       "      <td>recently shared colleague benign0 ’ article fa...</td>\n",
       "    </tr>\n",
       "  </tbody>\n",
       "</table>\n",
       "</div>"
      ],
      "text/plain": [
       "                                                articles  labels  word_count  \\\n",
       "1664   Inuulan ngayon ng batikos ang dilawang mamamah...       1          95   \n",
       "8849   The passage of the proposed 2019 P3.757 trilli...       0         625   \n",
       "9792   House Majority Leader Neptali Gonzales II: Bet...       0        1053   \n",
       "25147  taped greeting to former President Fidel V. Ra...       0         857   \n",
       "18783  I recently shared my colleague Benign0’s artic...       1        2359   \n",
       "\n",
       "                                          processed_text  \n",
       "1664   inuulan batikos dilawa na hayag si philip lust...  \n",
       "8849   passage proposed 2019 p3757 trillion national ...  \n",
       "9792   house majority leader neptali gonzales ii bett...  \n",
       "25147  taped greeting former president fidel v ramos ...  \n",
       "18783  recently shared colleague benign0 ’ article fa...  "
      ]
     },
     "execution_count": 87,
     "metadata": {},
     "output_type": "execute_result"
    }
   ],
   "source": [
    "df.head()"
   ]
  },
  {
   "cell_type": "code",
   "execution_count": 88,
   "id": "3aae8deb",
   "metadata": {},
   "outputs": [],
   "source": [
    "df.to_csv('./data/processed.csv', index=False)"
   ]
  },
  {
   "cell_type": "code",
   "execution_count": 1,
   "id": "6e5fd709",
   "metadata": {},
   "outputs": [
    {
     "data": {
      "text/html": [
       "<div>\n",
       "<style scoped>\n",
       "    .dataframe tbody tr th:only-of-type {\n",
       "        vertical-align: middle;\n",
       "    }\n",
       "\n",
       "    .dataframe tbody tr th {\n",
       "        vertical-align: top;\n",
       "    }\n",
       "\n",
       "    .dataframe thead th {\n",
       "        text-align: right;\n",
       "    }\n",
       "</style>\n",
       "<table border=\"1\" class=\"dataframe\">\n",
       "  <thead>\n",
       "    <tr style=\"text-align: right;\">\n",
       "      <th></th>\n",
       "      <th>articles</th>\n",
       "      <th>labels</th>\n",
       "      <th>word_count</th>\n",
       "      <th>processed_text</th>\n",
       "    </tr>\n",
       "  </thead>\n",
       "  <tbody>\n",
       "    <tr>\n",
       "      <th>0</th>\n",
       "      <td>Inuulan ngayon ng batikos ang dilawang mamamah...</td>\n",
       "      <td>1</td>\n",
       "      <td>95</td>\n",
       "      <td>inuulan batikos dilawa na hayag si philip lust...</td>\n",
       "    </tr>\n",
       "    <tr>\n",
       "      <th>1</th>\n",
       "      <td>The passage of the proposed 2019 P3.757 trilli...</td>\n",
       "      <td>0</td>\n",
       "      <td>625</td>\n",
       "      <td>passage proposed 2019 p3757 trillion national ...</td>\n",
       "    </tr>\n",
       "    <tr>\n",
       "      <th>2</th>\n",
       "      <td>House Majority Leader Neptali Gonzales II: Bet...</td>\n",
       "      <td>0</td>\n",
       "      <td>1053</td>\n",
       "      <td>house majority leader neptali gonzales ii bett...</td>\n",
       "    </tr>\n",
       "    <tr>\n",
       "      <th>3</th>\n",
       "      <td>taped greeting to former President Fidel V. Ra...</td>\n",
       "      <td>0</td>\n",
       "      <td>857</td>\n",
       "      <td>taped greeting former president fidel v ramos ...</td>\n",
       "    </tr>\n",
       "    <tr>\n",
       "      <th>4</th>\n",
       "      <td>I recently shared my colleague Benign0’s artic...</td>\n",
       "      <td>1</td>\n",
       "      <td>2359</td>\n",
       "      <td>recently shared colleague benign0 ’ article fa...</td>\n",
       "    </tr>\n",
       "  </tbody>\n",
       "</table>\n",
       "</div>"
      ],
      "text/plain": [
       "                                            articles  labels  word_count  \\\n",
       "0  Inuulan ngayon ng batikos ang dilawang mamamah...       1          95   \n",
       "1  The passage of the proposed 2019 P3.757 trilli...       0         625   \n",
       "2  House Majority Leader Neptali Gonzales II: Bet...       0        1053   \n",
       "3  taped greeting to former President Fidel V. Ra...       0         857   \n",
       "4  I recently shared my colleague Benign0’s artic...       1        2359   \n",
       "\n",
       "                                      processed_text  \n",
       "0  inuulan batikos dilawa na hayag si philip lust...  \n",
       "1  passage proposed 2019 p3757 trillion national ...  \n",
       "2  house majority leader neptali gonzales ii bett...  \n",
       "3  taped greeting former president fidel v ramos ...  \n",
       "4  recently shared colleague benign0 ’ article fa...  "
      ]
     },
     "execution_count": 1,
     "metadata": {},
     "output_type": "execute_result"
    }
   ],
   "source": [
    "import pandas as pd\n",
    "new_df = pd.read_csv('./data/processed.csv')\n",
    "new_df.head()"
   ]
  },
  {
   "cell_type": "code",
   "execution_count": 5,
   "id": "8f22cd4e",
   "metadata": {},
   "outputs": [
    {
     "name": "stdout",
     "output_type": "stream",
     "text": [
      "<class 'pandas.core.frame.DataFrame'>\n",
      "RangeIndex: 25664 entries, 0 to 25663\n",
      "Data columns (total 4 columns):\n",
      " #   Column          Non-Null Count  Dtype \n",
      "---  ------          --------------  ----- \n",
      " 0   articles        25664 non-null  object\n",
      " 1   labels          25664 non-null  int64 \n",
      " 2   word_count      25664 non-null  int64 \n",
      " 3   processed_text  25664 non-null  object\n",
      "dtypes: int64(2), object(2)\n",
      "memory usage: 802.1+ KB\n"
     ]
    }
   ],
   "source": [
    "new_df.info()"
   ]
  },
  {
   "cell_type": "markdown",
   "id": "c8b58584",
   "metadata": {},
   "source": [
    "## **OBJECTIVE 3 & 4**\n",
    "\n",
    "Train the following machine learning models:\n",
    "- Logistic Regression\n",
    "- Multinomial Naive Bayes\n",
    "- Support Vector Machine\n",
    "- Random Forests"
   ]
  },
  {
   "cell_type": "code",
   "execution_count": 5,
   "id": "a12aa7d0",
   "metadata": {},
   "outputs": [],
   "source": [
    "from sklearn.feature_extraction.text import TfidfVectorizer\n",
    "from sklearn.model_selection import train_test_split\n",
    "from sklearn.metrics import accuracy_score, precision_score, recall_score, f1_score\n",
    "\n",
    "from sklearn.linear_model import LogisticRegression\n",
    "from sklearn.naive_bayes import MultinomialNB\n",
    "from sklearn.svm import SVC\n",
    "from sklearn.ensemble import RandomForestClassifier\n",
    "from sklearn.ensemble import StackingClassifier\n",
    "\n",
    "X_train, X_test, y_train, y_test = train_test_split(\n",
    "    new_df['processed_text'], new_df['labels'], test_size=0.2, random_state=42)"
   ]
  },
  {
   "cell_type": "code",
   "execution_count": 6,
   "id": "54e8296d",
   "metadata": {},
   "outputs": [
    {
     "data": {
      "text/plain": [
       "['./serialized/tfidf-vectorizer.pkl']"
      ]
     },
     "execution_count": 6,
     "metadata": {},
     "output_type": "execute_result"
    }
   ],
   "source": [
    "from joblib import dump, load\n",
    "vectorizer = TfidfVectorizer()\n",
    "X_train_tfidf = vectorizer.fit_transform(X_train)\n",
    "X_test_tfidf = vectorizer.transform(X_test)\n",
    "\n",
    "dump(vectorizer, \"./serialized/tfidf-vectorizer.pkl\")"
   ]
  },
  {
   "cell_type": "code",
   "execution_count": 7,
   "id": "174c00ad",
   "metadata": {},
   "outputs": [
    {
     "name": "stdout",
     "output_type": "stream",
     "text": [
      "Training LogisticRegression...\n",
      "✅ Done training and saving LogisticRegression\n",
      "Training MultinomialNB...\n",
      "✅ Done training and saving MultinomialNB\n",
      "Training RandomForestClassifier...\n",
      "✅ Done training and saving RandomForestClassifier\n",
      "Training SVC...\n",
      "✅ Done training and saving SVC\n"
     ]
    }
   ],
   "source": [
    "models = {\n",
    "    \"LogisticRegression\": LogisticRegression(class_weight='balanced', max_iter=1000, C=1.0),\n",
    "    \"MultinomialNB\": MultinomialNB(),\n",
    "    \"RandomForestClassifier\": RandomForestClassifier(n_estimators=200, class_weight='balanced', max_depth=20),\n",
    "    \"SVC\": SVC(probability=True, kernel='linear', class_weight='balanced', C=1.0)\n",
    "}\n",
    "\n",
    "results = {}\n",
    "\n",
    "for name, model in models.items():\n",
    "    print(f\"Training {name}...\")\n",
    "    model.fit(X_train_tfidf, y_train)\n",
    "    y_pred = model.predict(X_test_tfidf)\n",
    "    \n",
    "    results[name] = {\n",
    "        'Accuracy': accuracy_score(y_test, y_pred),\n",
    "        'Precision': precision_score(y_test, y_pred),\n",
    "        'Recall': recall_score(y_test, y_pred),\n",
    "        'F1 Score': f1_score(y_test, y_pred)\n",
    "    }\n",
    "    \n",
    "    dump(model, f\"./serialized/models/{name}.pkl\")\n",
    "    print(f\"✅ Done training and saving {name}\")\n",
    "\n",
    "results_df = pd.DataFrame(results).T"
   ]
  },
  {
   "cell_type": "code",
   "execution_count": 8,
   "id": "e3f9a98e",
   "metadata": {},
   "outputs": [
    {
     "data": {
      "text/html": [
       "<div>\n",
       "<style scoped>\n",
       "    .dataframe tbody tr th:only-of-type {\n",
       "        vertical-align: middle;\n",
       "    }\n",
       "\n",
       "    .dataframe tbody tr th {\n",
       "        vertical-align: top;\n",
       "    }\n",
       "\n",
       "    .dataframe thead th {\n",
       "        text-align: right;\n",
       "    }\n",
       "</style>\n",
       "<table border=\"1\" class=\"dataframe\">\n",
       "  <thead>\n",
       "    <tr style=\"text-align: right;\">\n",
       "      <th></th>\n",
       "      <th>Accuracy</th>\n",
       "      <th>Precision</th>\n",
       "      <th>Recall</th>\n",
       "      <th>F1 Score</th>\n",
       "    </tr>\n",
       "  </thead>\n",
       "  <tbody>\n",
       "    <tr>\n",
       "      <th>LogisticRegression</th>\n",
       "      <td>0.937074</td>\n",
       "      <td>0.898947</td>\n",
       "      <td>0.928766</td>\n",
       "      <td>0.913613</td>\n",
       "    </tr>\n",
       "    <tr>\n",
       "      <th>MultinomialNB</th>\n",
       "      <td>0.761543</td>\n",
       "      <td>0.914980</td>\n",
       "      <td>0.368679</td>\n",
       "      <td>0.525581</td>\n",
       "    </tr>\n",
       "    <tr>\n",
       "      <th>RandomForestClassifier</th>\n",
       "      <td>0.860121</td>\n",
       "      <td>0.752819</td>\n",
       "      <td>0.907558</td>\n",
       "      <td>0.822978</td>\n",
       "    </tr>\n",
       "    <tr>\n",
       "      <th>SVC</th>\n",
       "      <td>0.950906</td>\n",
       "      <td>0.936709</td>\n",
       "      <td>0.925503</td>\n",
       "      <td>0.931072</td>\n",
       "    </tr>\n",
       "  </tbody>\n",
       "</table>\n",
       "</div>"
      ],
      "text/plain": [
       "                        Accuracy  Precision    Recall  F1 Score\n",
       "LogisticRegression      0.937074   0.898947  0.928766  0.913613\n",
       "MultinomialNB           0.761543   0.914980  0.368679  0.525581\n",
       "RandomForestClassifier  0.860121   0.752819  0.907558  0.822978\n",
       "SVC                     0.950906   0.936709  0.925503  0.931072"
      ]
     },
     "execution_count": 8,
     "metadata": {},
     "output_type": "execute_result"
    }
   ],
   "source": [
    "results_df"
   ]
  },
  {
   "cell_type": "code",
   "execution_count": 9,
   "id": "253ffd4e",
   "metadata": {},
   "outputs": [],
   "source": [
    "import matplotlib.pyplot as plt\n",
    "%matplotlib inline"
   ]
  },
  {
   "cell_type": "code",
   "execution_count": 10,
   "id": "a75e49db",
   "metadata": {},
   "outputs": [
    {
     "data": {
      "image/png": "[encoded data removed]",
      "text/plain": [
       "<Figure size 1200x800 with 4 Axes>"
      ]
     },
     "metadata": {},
     "output_type": "display_data"
    }
   ],
   "source": [
    "df_plot = results_df.copy()\n",
    "\n",
    "# Create 2x2 subplots\n",
    "fig, axes = plt.subplots(2, 2, figsize=(12, 8))\n",
    "axes = axes.flatten()\n",
    "\n",
    "# Plot each metric in a separate subplot\n",
    "for i, metric in enumerate(df_plot.index):\n",
    "    axes[i].bar(df_plot.columns, df_plot.loc[metric], color='skyblue')\n",
    "    axes[i].set_title(metric)\n",
    "    axes[i].set_ylim(0, 1)\n",
    "    axes[i].set_ylabel(\"Score\")\n",
    "    axes[i].tick_params(axis='x', rotation=15)\n",
    "\n",
    "plt.tight_layout()\n",
    "plt.show()"
   ]
  },
  {
   "cell_type": "markdown",
   "id": "5bcf59c1",
   "metadata": {},
   "source": [
    "## **OBJECTIVE 5**\n",
    "\n",
    "Use 3-5 trained models for the ensemble approach"
   ]
  },
  {
   "cell_type": "markdown",
   "id": "9066b525",
   "metadata": {},
   "source": [
    "For our ensemble approach, let's use logistic regression, SVM, and random forests."
   ]
  },
  {
   "cell_type": "code",
   "execution_count": 14,
   "id": "ccd80809",
   "metadata": {},
   "outputs": [
    {
     "data": {
      "text/html": [
       "<div>\n",
       "<style scoped>\n",
       "    .dataframe tbody tr th:only-of-type {\n",
       "        vertical-align: middle;\n",
       "    }\n",
       "\n",
       "    .dataframe tbody tr th {\n",
       "        vertical-align: top;\n",
       "    }\n",
       "\n",
       "    .dataframe thead th {\n",
       "        text-align: right;\n",
       "    }\n",
       "</style>\n",
       "<table border=\"1\" class=\"dataframe\">\n",
       "  <thead>\n",
       "    <tr style=\"text-align: right;\">\n",
       "      <th></th>\n",
       "      <th>SoftVoting</th>\n",
       "    </tr>\n",
       "  </thead>\n",
       "  <tbody>\n",
       "    <tr>\n",
       "      <th>Accuracy</th>\n",
       "      <td>0.939606</td>\n",
       "    </tr>\n",
       "    <tr>\n",
       "      <th>Precision</th>\n",
       "      <td>0.953171</td>\n",
       "    </tr>\n",
       "    <tr>\n",
       "      <th>Recall</th>\n",
       "      <td>0.874388</td>\n",
       "    </tr>\n",
       "    <tr>\n",
       "      <th>F1 Score</th>\n",
       "      <td>0.912082</td>\n",
       "    </tr>\n",
       "  </tbody>\n",
       "</table>\n",
       "</div>"
      ],
      "text/plain": [
       "           SoftVoting\n",
       "Accuracy     0.939606\n",
       "Precision    0.953171\n",
       "Recall       0.874388\n",
       "F1 Score     0.912082"
      ]
     },
     "execution_count": 14,
     "metadata": {},
     "output_type": "execute_result"
    }
   ],
   "source": [
    "from sklearn.ensemble import VotingClassifier\n",
    "\n",
    "logreg = LogisticRegression(class_weight='balanced', max_iter=1000, C=1.0)\n",
    "mnb = MultinomialNB()\n",
    "rf = RandomForestClassifier(n_estimators=200, class_weight='balanced', max_depth=20)\n",
    "svc = SVC(probability=True, kernel='linear', class_weight='balanced', C=1.0)\n",
    "\n",
    "voting_clf = VotingClassifier(\n",
    "    estimators=[\n",
    "        ('logreg', logreg),\n",
    "        ('mnb', mnb),\n",
    "        ('rf', rf),\n",
    "        ('svc', svc)\n",
    "    ],\n",
    "    voting='soft'\n",
    ")\n",
    "\n",
    "voting_clf.fit(X_train_tfidf, y_train)\n",
    "y_pred = voting_clf.predict(X_test_tfidf)\n",
    "\n",
    "ensemble_results = {}\n",
    "\n",
    "ensemble_results['SoftVoting'] = {\n",
    "    'Accuracy': accuracy_score(y_test, y_pred),\n",
    "    'Precision': precision_score(y_test, y_pred),\n",
    "    'Recall': recall_score(y_test, y_pred),\n",
    "    'F1 Score': f1_score(y_test, y_pred)\n",
    "}\n",
    "\n",
    "# Update results DataFrame\n",
    "res = pd.DataFrame(ensemble_results)\n",
    "dump(voting_clf, \"./serialized/models/EnsembleSoftVoting.pkl\")\n",
    "\n",
    "res.head()"
   ]
  },
  {
   "cell_type": "markdown",
   "id": "ecc460be",
   "metadata": {},
   "source": [
    "## **OBJECTIVE 6**\n",
    "\n",
    "Perform inference on sample data with [LIME](https://github.com/marcotcr/lime.git)"
   ]
  },
  {
   "cell_type": "code",
   "execution_count": 16,
   "id": "fb01345f",
   "metadata": {},
   "outputs": [
    {
     "name": "stdout",
     "output_type": "stream",
     "text": [
      "Original: ['Remember that arrival ceremony in Israel when Donald Trump’s hand was slapped by First Lady Melania? (Apparently it happened again as the couple arrived in Italy!)It was a big embarrassment for the President but he could not get back at his wife. So he took it out on Montenegro’s Prime Minister.While walking with the NATO leaders during his visit to the alliance’s headquarters in Belgium 🇧🇪 Thursday, Trump pushed aside Dusko Markovic, the prime minister of Montenegro, as he moved to the front of a group of the leaders.Watch the great pushover HERE.Once a bully, always bully. Except with the Slovenian American wife!'\n",
      " 1 103\n",
      " 'remember arrival ceremony israel donald trump ’ hand slapped first lady melania apparently happened couple arrived italyit big embarrassment president could get back wife took montenegro ’ prime ministerwhile walk nato leader visit alliance ’ headquarter belgium 🇧 🇪 thursday trump pushed aside dusko markovic prime minister montenegro moved front group leaderswatch great pushover hereonce bully always bully except slovenian american wife']\n",
      "remember arrival ceremony israel donald trump ’ hand slapped first lady melania apparently happened couple arrived italyit big embarrassment president could get back wife took montenegro ’ prime ministerwhile walk nato leader visit alliance ’ headquarter belgium 🇧 🇪 thursday trump pushed aside dusko markovic prime minister montenegro moved front group leaderswatch great pushover hereonce bully always bully except slovenian american wife <class 'str'>\n",
      "1 <class 'numpy.int64'>\n"
     ]
    }
   ],
   "source": [
    "# Randomly sample one row from the DataFrame\n",
    "sample = new_df.sample()\n",
    "print(f\"Original: {sample.values[0]}\")\n",
    "\n",
    "# Extract the text and label as raw values\n",
    "sample_text = preprocess_text(sample['articles'].values[0], nlp, tagalog_tl, True)\n",
    "label = sample['labels'].values[0]\n",
    "\n",
    "print(sample_text, type(sample_text))\n",
    "print(label, type(label))"
   ]
  },
  {
   "cell_type": "code",
   "execution_count": 17,
   "id": "83d34665",
   "metadata": {},
   "outputs": [],
   "source": [
    "from lime.lime_text import LimeTextExplainer\n",
    "from sklearn.pipeline import make_pipeline\n",
    "import numpy as np\n",
    "\n",
    "from sklearn.pipeline import make_pipeline\n",
    "\n",
    "model = load('./serialized/models/EnsembleSoftVoting.pkl')  # Load any model you want to interpret\n",
    "\n",
    "# Wrap vectorizer and model into one pipeline\n",
    "c = make_pipeline(vectorizer, model)\n",
    "\n",
    "class_names = [\"Real News\", \"Fake News\"] # 0, 1"
   ]
  },
  {
   "cell_type": "code",
   "execution_count": 21,
   "id": "01302801",
   "metadata": {},
   "outputs": [],
   "source": [
    "explainer = LimeTextExplainer(class_names=class_names)\n",
    "\n",
    "exp = explainer.explain_instance(sample_text, c.predict_proba, num_features=10)\n",
    "\n",
    "exp.save_to_file('./figures/sample_lime_explanation.html')"
   ]
  },
  {
   "cell_type": "code",
   "execution_count": null,
   "id": "a09db272",
   "metadata": {},
   "outputs": [
    {
     "data": {
      "text/plain": [
       "np.float64(0.6076254390095429)"
      ]
     },
     "execution_count": 22,
     "metadata": {},
     "output_type": "execute_result"
    }
   ],
   "source": [
    "# get pred prob\n",
    "exp.predict_proba.max()"
   ]
  },
  {
   "cell_type": "code",
   "execution_count": 19,
   "id": "218270c3",
   "metadata": {},
   "outputs": [
    {
     "data": {
      "text/plain": [
       "[(np.str_('thursday'), -0.06998998524489392),\n",
       " (np.str_('american'), 0.06794864396689437),\n",
       " (np.str_('donald'), 0.04301578231980899),\n",
       " (np.str_('trump'), 0.038724071195373376),\n",
       " (np.str_('montenegro'), -0.03580089473081451),\n",
       " (np.str_('prime'), -0.03532454224185147),\n",
       " (np.str_('happened'), 0.03363462954666327),\n",
       " (np.str_('great'), 0.027595208448363762),\n",
       " (np.str_('embarrassment'), 0.022906668133927166),\n",
       " (np.str_('except'), 0.021342272493094068)]"
      ]
     },
     "execution_count": 19,
     "metadata": {},
     "output_type": "execute_result"
    }
   ],
   "source": [
    "exp.as_list()"
   ]
  },
  {
   "cell_type": "code",
   "execution_count": null,
   "id": "44b891eb",
   "metadata": {},
   "outputs": [],
   "source": []
  }
 ],
 "metadata": {
  "kernelspec": {
   "display_name": "NLP Finals Environment",
   "language": "python",
   "name": "venv"
  },
  "language_info": {
   "codemirror_mode": {
    "name": "ipython",
    "version": 3
   },
   "file_extension": ".py",
   "mimetype": "text/x-python",
   "name": "python",
   "nbconvert_exporter": "python",
   "pygments_lexer": "ipython3",
   "version": "3.11.1"
  }
 },
 "nbformat": 4,
 "nbformat_minor": 5
}
