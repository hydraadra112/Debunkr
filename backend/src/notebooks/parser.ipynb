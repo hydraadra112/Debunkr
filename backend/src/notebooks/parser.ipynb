{
 "cells": [
  {
   "cell_type": "markdown",
   "id": "dad4e22a",
   "metadata": {},
   "source": [
    "# **Parsers**\n",
    "\n",
    "This notebook explores the various methods on how to properly parse links, text files, pdfs, and text itself from the frontend. In this notebook, we will:\n",
    "\n",
    "- Parse links using `Trafilatura`, pdf's as raw bytes using `PyMuPDF`, and text itself as string.\n",
    "- Create a preprocessing pipeline (method), based on the `model_dev.ipynb`\n",
    "- Perform inference on sample data using the Random Forests Classifier with LIME"
   ]
  },
  {
   "cell_type": "markdown",
   "id": "adef2ef0",
   "metadata": {},
   "source": [
    "## **OBJECTIVE 1.1:** Parse links using `Trafilatura`"
   ]
  },
  {
   "cell_type": "code",
   "execution_count": 1,
   "id": "23817e56",
   "metadata": {},
   "outputs": [],
   "source": [
    "import trafilatura\n",
    "\n",
    "url = 'https://www.gmanetwork.com/news/topstories/nation/943939/sara-duterte-hints-2028-run-isko-moreno-rally/story/'\n",
    "downloaded = trafilatura.fetch_url(url)\n",
    "result = trafilatura.extract(downloaded, output_format='txt')"
   ]
  },
  {
   "cell_type": "code",
   "execution_count": 2,
   "id": "8b9ccb96",
   "metadata": {},
   "outputs": [
    {
     "name": "stdout",
     "output_type": "stream",
     "text": [
      "Sara Duterte hints at 2028 run at Isko rally Vice President Sara Duterte once again teased about her supposed plans for the 2028 presidential elections during the campaign rally of Manila mayoral candidate Isko Moreno on Thursday night While delivering her speech Duterte removed the seal of the Office of the Vice President OVP from the lectern saying that she will replace it with a seal of the Office of the President This drew applause and cheers from the crowd Tinanggal ko lang kasi iba kasi 'yung opisina iba rin 'yung pangangampanya Pero kung sa pangulo lang pumili na lang kayo si Isko Moreno o si Sara Duterte wala kaming problema she said I removed the seal because my work is different from campaigning But if you will choose a president it s either me or Isko Moreno we don t have a problem with that To recall Duterte said last January that she was seriously considering to run in the 2028 presidential elections However when asked for a clarification on Thursday if she was now sure of running for presidency Duterte replied Siguro kilala na ako ng mga tao ngayon 'no So dapat siguro mag distinguish tayo kung ano 'yung joke at ano 'yung hindi joke dahil matagal na rin tayo magkasama lahat matagal na rin ako nakikita ng sambayanan sa national stage So naiintindihan na nila kung ano 'yung joke at ano 'yung hindi joke People already know me by now They should be able to distinguish if what I'm saying is a joke or not because we've been together for a long time People have been seeing me on the national stage since then so I think they already understand During the same rally Duterte also quipped that Senator Imee Marcos sister of President Ferdinand Bongbong Marcos Jr should change her last name The senator who was also present in the event laughed off the Vice President s remarks Duterte's endorsement of Imee Marcos came just weeks after the senator withdrew from her brother's senatorial slate Senator Marcos has distanced herself from the administration citing differences in values and principles particularly in the arrest of former President Rodrigo Duterte Sara's father President Marcos and Duterte were running mates in the 2022 elections but their relationship soured after the House of Representatives began questioning her use of confidential and intelligence funds The House Committee on Good Government and Public Accountability has launched an investigation into the alleged questionable budget use of the Office of the Vice President and the Department of Education which Duterte had led The House of Representatives has endorsed an impeachment complaint against the Vice President over these issues among others She has consistently denied any wrongdoing VDV GMA Integrated News For more Eleksyon 2025 related content and updates visit GMA News Online's Eleksyon 2025 microsite\n"
     ]
    }
   ],
   "source": [
    "import re\n",
    "\n",
    "cleaned_text = re.sub(r\"[^\\w\\s']\", ' ', result) # Step 1: Remove non-alphanumeric characters except for the aphostrophe\n",
    "cleaned_text = re.sub(r'[\\t\\n\\r\\f\\v]', ' ', cleaned_text)  # Step 2: Replace tabs/newlines with spaces\n",
    "cleaned_text = re.sub(r'\\s+', ' ', cleaned_text)  # Step 3: Normalize multiple spaces into one\n",
    "\n",
    "print(cleaned_text.strip())"
   ]
  },
  {
   "cell_type": "code",
   "execution_count": 9,
   "id": "559bc9a5",
   "metadata": {},
   "outputs": [],
   "source": [
    "# perform inference on provided link\n",
    "from joblib import load\n",
    "vectorizer = load('./serialized/tfidf-vectorizer.pkl')\n",
    "clf = load('./serialized/models/EnsembleSoftVoting.pkl')"
   ]
  },
  {
   "cell_type": "code",
   "execution_count": 4,
   "id": "7f1c33f3",
   "metadata": {},
   "outputs": [],
   "source": [
    "from pathlib import Path\n",
    "def load_stopwords(path: Path = Path(\"./stopwords-tl.txt\")):\n",
    "    \"\"\" Opens the tagalog stopwords file \"\"\"\n",
    "    with open(path, \"r\", encoding=\"utf-8\") as f:\n",
    "        return [line.strip() for line in f.readlines()]"
   ]
  },
  {
   "cell_type": "code",
   "execution_count": 5,
   "id": "04c20761",
   "metadata": {},
   "outputs": [
    {
     "name": "stderr",
     "output_type": "stream",
     "text": [
      "c:\\Users\\admin\\Desktop\\Classes\\2nd sem\\NLP\\NLP Finals\\backend\\.venv\\Lib\\site-packages\\spacy\\util.py:918: UserWarning: [W094] Model 'tl_calamancy_md' (0.2.0) specifies an under-constrained spaCy version requirement: >=3.8.3. This can lead to compatibility problems with older versions, or as new spaCy versions are released, because the model may say it's compatible when it's not. Consider changing the \"spacy_version\" in your meta.json to a version range, with a lower and upper pin. For example: >=3.8.5,<3.9.0\n",
      "  warnings.warn(warn_msg)\n",
      "c:\\Users\\admin\\Desktop\\Classes\\2nd sem\\NLP\\NLP Finals\\backend\\.venv\\Lib\\site-packages\\tqdm\\auto.py:21: TqdmWarning: IProgress not found. Please update jupyter and ipywidgets. See https://ipywidgets.readthedocs.io/en/stable/user_install.html\n",
      "  from .autonotebook import tqdm as notebook_tqdm\n",
      "c:\\Users\\admin\\Desktop\\Classes\\2nd sem\\NLP\\NLP Finals\\backend\\.venv\\Lib\\site-packages\\transformers\\utils\\generic.py:441: FutureWarning: `torch.utils._pytree._register_pytree_node` is deprecated. Please use `torch.utils._pytree.register_pytree_node` instead.\n",
      "  _torch_pytree._register_pytree_node(\n",
      "c:\\Users\\admin\\Desktop\\Classes\\2nd sem\\NLP\\NLP Finals\\backend\\.venv\\Lib\\site-packages\\transformers\\utils\\generic.py:309: FutureWarning: `torch.utils._pytree._register_pytree_node` is deprecated. Please use `torch.utils._pytree.register_pytree_node` instead.\n",
      "  _torch_pytree._register_pytree_node(\n",
      "[nltk_data] Downloading package punkt to\n",
      "[nltk_data]     C:\\Users\\admin\\AppData\\Roaming\\nltk_data...\n",
      "[nltk_data]   Package punkt is already up-to-date!\n",
      "[nltk_data] Downloading package stopwords to\n",
      "[nltk_data]     C:\\Users\\admin\\AppData\\Roaming\\nltk_data...\n",
      "[nltk_data]   Package stopwords is already up-to-date!\n",
      "[nltk_data] Downloading package wordnet to\n",
      "[nltk_data]     C:\\Users\\admin\\AppData\\Roaming\\nltk_data...\n",
      "[nltk_data]   Package wordnet is already up-to-date!\n"
     ]
    }
   ],
   "source": [
    "import calamancy\n",
    "import nltk\n",
    "nlp = calamancy.load(\"tl_calamancy_md-0.2.0\") # load in states in future due to slow loading time\n",
    "nltk.download('punkt')\n",
    "nltk.download('stopwords')\n",
    "nltk.download('wordnet')\n",
    "tagalog_tl = load_stopwords()"
   ]
  },
  {
   "cell_type": "code",
   "execution_count": 7,
   "id": "ba93ed1f",
   "metadata": {},
   "outputs": [],
   "source": [
    "import string\n",
    "from nltk.tokenize import word_tokenize\n",
    "from nltk.corpus import stopwords\n",
    "from nltk.stem import WordNetLemmatizer\n",
    "\n",
    "def preprocess_text(txt: str, calamancy_model, tl_stopwords, join: bool=True):\n",
    "    \"\"\"\n",
    "    Preprocesses input text by converting it to lowercase,\n",
    "    removing punctuation, applying Tagalog & English stopword removal,\n",
    "    and performing Tagalog & English lemmatization.\n",
    "\n",
    "    Args:\n",
    "        txt (str): Input text\n",
    "        calamancy_model: calamanCy model for Tagalog lemmatization\n",
    "        tl_stopwords (list): Tagalog stopword list\n",
    "        join (bool): Whether to return a joined string or list of tokens\n",
    "    \"\"\"\n",
    "    # Initialize English tools\n",
    "    en_stopwords = set(stopwords.words('english'))\n",
    "    lemmatizer = WordNetLemmatizer()\n",
    "\n",
    "    # Step 1: Lowercase\n",
    "    lower_text = txt.lower()\n",
    "\n",
    "    # Step 2: Remove punctuation\n",
    "    no_punc = lower_text.translate(str.maketrans('', '', string.punctuation))\n",
    "\n",
    "    # Step 3: Tokenize\n",
    "    tokenized = word_tokenize(no_punc)\n",
    "\n",
    "    # Step 4: Remove Tagalog and English stopwords\n",
    "    tokens_no_stop = [\n",
    "        token for token in tokenized\n",
    "        if token not in tl_stopwords and token not in en_stopwords\n",
    "    ]\n",
    "\n",
    "    # Step 5: Lemmatize with calamancy (Tagalog)\n",
    "    calamancy_doc = calamancy_model(' '.join(tokens_no_stop))\n",
    "    calamancy_lemmas = [token.lemma_ for token in calamancy_doc]\n",
    "\n",
    "    # Step 6: Lemmatize again with English lemmatizer (handles English tokens better)\n",
    "    final_tokens = [lemmatizer.lemmatize(token) for token in calamancy_lemmas]\n",
    "\n",
    "    # Step 7: Return\n",
    "    if join:\n",
    "        return ' '.join(final_tokens)\n",
    "    else:\n",
    "        return final_tokens"
   ]
  },
  {
   "cell_type": "code",
   "execution_count": 8,
   "id": "92ddba10",
   "metadata": {},
   "outputs": [
    {
     "name": "stdout",
     "output_type": "stream",
     "text": [
      "sara duterte hint 2028 run isko rally vice president sara duterte teased supposed plan 2028 presidential election campaign rally manila mayoral candidate isko moreno thursday night delivering speech duterte removed seal office vice president ovp lectern saying replace seal office president drew applause cheer crowd tanggal lang kasi kasi iyon opisina din iyon kampanya pangulo lang pili lang kayo si isko moreno si sara duterte wala kami na problema said removed seal work different campaigning choose president either isko moreno problem recall duterte said last january seriously considering run 2028 presidential election however asked clarification thursday sure running presidency duterte replied siguro kilala tao siguro mag distinguish iyon na joke iyon joke tagal din sama tagal din kita sambayanan national stage naiintindihan iyon joke iyon joke people already know able distinguish im saying joke weve together long time people seeing national stage since think already understand rally duterte also quipped senator imee marcos sister president ferdinand bongbong marcos jr change last name senator also present event laughed vice president remark dutertes endorsement imee marcos came week senator withdrew brother senatorial slate senator marcos distanced administration citing difference value principle particularly arrest former president rodrigo duterte saras father president marcos duterte running mate 2022 election relationship soured house representative began question use confidential intelligence fund house committee good government public accountability launched investigation alleged questionable budget use office vice president department education duterte led house representative endorsed impeachment complaint vice president issue amo na others consistently denied wrongdoing vdv gma integrated news eleksyon 2025 related content update visit gma news onlines eleksyon 2025 microsite\n"
     ]
    }
   ],
   "source": [
    "preprocessed = preprocess_text(cleaned_text, nlp, tagalog_tl, True)\n",
    "print(preprocessed)"
   ]
  },
  {
   "cell_type": "code",
   "execution_count": 10,
   "id": "93ca86d3",
   "metadata": {},
   "outputs": [],
   "source": [
    "input_tfidf = vectorizer.transform([preprocessed])\n",
    "pred = clf.predict(input_tfidf)"
   ]
  },
  {
   "cell_type": "code",
   "execution_count": 11,
   "id": "8ae6e886",
   "metadata": {},
   "outputs": [
    {
     "data": {
      "text/plain": [
       "array([1])"
      ]
     },
     "execution_count": 11,
     "metadata": {},
     "output_type": "execute_result"
    }
   ],
   "source": [
    "pred # Real News-0, Fake-News-1"
   ]
  },
  {
   "cell_type": "code",
   "execution_count": 12,
   "id": "0b0cf630",
   "metadata": {},
   "outputs": [],
   "source": [
    "from lime.lime_text import LimeTextExplainer\n",
    "from sklearn.pipeline import make_pipeline\n",
    "\n",
    "# Wrap vectorizer and model into one pipeline\n",
    "c = make_pipeline(vectorizer, rf)\n",
    "\n",
    "class_names = [\"Real News\", \"Fake News\"] # 0, 1"
   ]
  },
  {
   "cell_type": "code",
   "execution_count": 13,
   "id": "fb4816f1",
   "metadata": {},
   "outputs": [],
   "source": [
    "explainer = LimeTextExplainer(class_names=class_names)\n",
    "exp = explainer.explain_instance(preprocessed, c.predict_proba, num_features=10)"
   ]
  },
  {
   "cell_type": "code",
   "execution_count": 15,
   "id": "6742974f",
   "metadata": {},
   "outputs": [
    {
     "data": {
      "text/plain": [
       "[(np.str_('duterte'), 0.10221146761156928),\n",
       " (np.str_('senator'), 0.06921283309831457),\n",
       " (np.str_('iyon'), 0.06852191278390994),\n",
       " (np.str_('said'), -0.06073342512814338),\n",
       " (np.str_('thursday'), -0.04901291096970945),\n",
       " (np.str_('joke'), -0.04641129731860557),\n",
       " (np.str_('house'), -0.03733824620170919),\n",
       " (np.str_('gma'), 0.029988503842908923),\n",
       " (np.str_('lang'), 0.027357178085538995),\n",
       " (np.str_('pangulo'), 0.022496359780912988)]"
      ]
     },
     "execution_count": 15,
     "metadata": {},
     "output_type": "execute_result"
    }
   ],
   "source": [
    "exp.as_list()"
   ]
  },
  {
   "cell_type": "code",
   "execution_count": 22,
   "id": "ac0e0b4d",
   "metadata": {},
   "outputs": [
    {
     "data": {
      "text/plain": [
       "np.float64(0.6095946538286927)"
      ]
     },
     "execution_count": 22,
     "metadata": {},
     "output_type": "execute_result"
    }
   ],
   "source": [
    "exp.predict_proba.max()"
   ]
  },
  {
   "cell_type": "code",
   "execution_count": 16,
   "id": "d69dccd2",
   "metadata": {},
   "outputs": [],
   "source": [
    "word_scores = {}\n",
    "for word, score in exp.as_list():\n",
    "    word_scores[str(word)] = round(score, 5)"
   ]
  },
  {
   "cell_type": "code",
   "execution_count": 17,
   "id": "73c78378",
   "metadata": {},
   "outputs": [
    {
     "data": {
      "text/plain": [
       "{'duterte': 0.10221,\n",
       " 'senator': 0.06921,\n",
       " 'iyon': 0.06852,\n",
       " 'said': -0.06073,\n",
       " 'thursday': -0.04901,\n",
       " 'joke': -0.04641,\n",
       " 'house': -0.03734,\n",
       " 'gma': 0.02999,\n",
       " 'lang': 0.02736,\n",
       " 'pangulo': 0.0225}"
      ]
     },
     "execution_count": 17,
     "metadata": {},
     "output_type": "execute_result"
    }
   ],
   "source": [
    "word_scores"
   ]
  },
  {
   "cell_type": "code",
   "execution_count": 36,
   "id": "cff83de4",
   "metadata": {},
   "outputs": [],
   "source": [
    "exp.save_to_file('./figures/gma_news.html')"
   ]
  },
  {
   "cell_type": "markdown",
   "id": "0eaa25f5",
   "metadata": {},
   "source": [
    "## ## **OBJECTIVE 1.2:** Parse PDF Files"
   ]
  },
  {
   "cell_type": "code",
   "execution_count": 37,
   "id": "f7e07b1a",
   "metadata": {},
   "outputs": [
    {
     "name": "stdout",
     "output_type": "stream",
     "text": [
      "PILIPINAS, NAGTAGUMPAY SA KAUNA-UNAHANG MISYON NG PAGPAPATUBO NG HALAMAN SA \n",
      "BUWAN \n",
      "Maynila, Pilipinas — Sa isang makasaysayang anunsyo ngayong araw, ipinahayag ng Philippine Space \n",
      "and Agriculture Agency (PSAA) ang matagumpay na pagpapalago ng halamang malunggay sa ibabaw \n",
      "ng buwan, isang hakbang na tinaguriang \"monumental achievement\" sa larangan ng agham at \n",
      "teknolohiya. \n",
      "Ayon kay Dr. Feliciano Robles, punong siyentipiko ng misyon, ang proyekto na tinawag na Project \n",
      "Gulaylaktik ay bahagi ng mas malawak na plano ng pamahalaan upang palawakin ang food \n",
      "sustainability program sa labas ng Earth. Gamit ang isang makabagong lunar greenhouse na \n",
      "inimbento sa loob ng tatlong buwan, nagawa ng mga Pilipinong siyentipiko na pasibulin ang unang \n",
      "buto ng malunggay sa mabatong kapaligiran ng buwan. \n",
      "\"Ang malunggay, na kilala sa taglay nitong mataas na nutrisyon, ay napili dahil sa kakayahan nitong \n",
      "mabuhay sa mahihirap na kondisyon. Sa pamamagitan ng teknolohiyang hydroponics at lunar nutrient \n",
      "infusion, napatunayan natin na posible ang pagtatanim sa ibang planeta,\" pahayag ni Dr. Robles sa \n",
      "isang press briefing. \n",
      "Ikinatuwa ng buong bansa ang balita, at agad naglabas ng pahayag si Pangulong Andres Dela Cruz, na \n",
      "nagsabing, \"Isang patunay ito na kayang makipagsabayan ng Pilipinas sa larangan ng space \n",
      "exploration. Tayo na ang magiging unang supplier ng malunggay sa kalawakan.\" \n",
      "Samantala, inihahanda na ng PSAA ang ikalawang misyon — ang pagtatayo ng unang kwek-kwek stall \n",
      "sa lunar orbit, upang maipakilala ang pagkaing kalye ng Pilipinas sa buong kalawakan. \n",
      "Patuloy namang hinihikayat ang mga kabataan na mag-aral ng agham, teknolohiya, at agrikultura \n",
      "upang maging bahagi ng susunod na henerasyon ng \"space farmers.\" \n",
      "\n"
     ]
    }
   ],
   "source": [
    "import fitz  # PyMuPDF\n",
    "\n",
    "with open('sample_file.pdf', 'rb') as f:\n",
    "    pdf_bytes = f.read() # open pdf as raw bytes\n",
    "\n",
    "# Load PDF directly from bytes\n",
    "doc = fitz.open(stream=pdf_bytes, filetype='pdf')\n",
    "\n",
    "# Extract text from each page\n",
    "full_text = \"\"\n",
    "for page in doc:\n",
    "    full_text += page.get_text()\n",
    "\n",
    "print(full_text)"
   ]
  },
  {
   "cell_type": "code",
   "execution_count": 38,
   "id": "53cfafff",
   "metadata": {},
   "outputs": [],
   "source": [
    "pdf_text = preprocess_text(full_text, nlp, stopwords)\n",
    "pdf_preprocessed = ' '.join(pdf_text)"
   ]
  },
  {
   "cell_type": "code",
   "execution_count": 39,
   "id": "8c28515b",
   "metadata": {},
   "outputs": [
    {
     "data": {
      "text/plain": [
       "'pilipinas tagumpay kaunaunahang misyon pagpapatubo halaman buwan maynila pilipinas — saysaya na anunsyo ngayon na araw hayag philippine space and agriculture agency psaa tagumpay pagpapalago halamang malunggay buwan hakbang taguri na monumental achievement larang agham teknolohiya ayon kay dr feliciano robles punong siyentipiko misyon proyekto tawag project gulaylaktik bahagi mas lawak plano pamahalaan upang palawakin food sustainability program labas earth gamit bago na lunar greenhouse mbento loob tatlo na buwan gawa pilipino na siyentipiko sibul una na buto malunggay bato na ligid buwan malunggay kilala taglay nito na taas nutrisyon pili kaya nito na buhay hirap kondisyon teknolohiya na hydroponics lunar nutrient infusion tunay natin posible pagtatanim iba na planeta hayag dr robles press briefing tuwa buo na bansa balita agad labas hayag si pangulo na andres dela cruz sabi na tunay kaya na sabay pilipinas larang space exploration maging una na supplier malunggay lawakan samantala handa psaa dalawa na misyon — tayo una na kwekkwek stall lunar orbit upang maipakilala kain na kalye pilipinas buo na kalawakan patuloy naman na hinihikayat bata magaral agham teknolohiya agrikultura upang bahagi sunod henerasyon space farmer'"
      ]
     },
     "execution_count": 39,
     "metadata": {},
     "output_type": "execute_result"
    }
   ],
   "source": [
    "pdf_preprocessed"
   ]
  },
  {
   "cell_type": "code",
   "execution_count": 41,
   "id": "de8a39a8",
   "metadata": {},
   "outputs": [],
   "source": [
    "pdf_tfidf = vectorizer.transform([pdf_preprocessed])\n",
    "pdf_pred = rf.predict(pdf_tfidf)"
   ]
  },
  {
   "cell_type": "code",
   "execution_count": 42,
   "id": "34ec7e05",
   "metadata": {},
   "outputs": [
    {
     "data": {
      "text/plain": [
       "array([1], dtype=int64)"
      ]
     },
     "execution_count": 42,
     "metadata": {},
     "output_type": "execute_result"
    }
   ],
   "source": [
    "pdf_pred"
   ]
  },
  {
   "cell_type": "code",
   "execution_count": 44,
   "id": "fba2d356",
   "metadata": {},
   "outputs": [],
   "source": [
    "exp = explainer.explain_instance(pdf_preprocessed, c.predict_proba, num_features=10)\n",
    "exp.save_to_file('./figures/sample_file_lime.html')"
   ]
  },
  {
   "cell_type": "code",
   "execution_count": null,
   "id": "1614e956",
   "metadata": {},
   "outputs": [],
   "source": []
  }
 ],
 "metadata": {
  "kernelspec": {
   "display_name": "NLP Finals Environment",
   "language": "python",
   "name": "venv"
  },
  "language_info": {
   "codemirror_mode": {
    "name": "ipython",
    "version": 3
   },
   "file_extension": ".py",
   "mimetype": "text/x-python",
   "name": "python",
   "nbconvert_exporter": "python",
   "pygments_lexer": "ipython3",
   "version": "3.11.1"
  }
 },
 "nbformat": 4,
 "nbformat_minor": 5
}
