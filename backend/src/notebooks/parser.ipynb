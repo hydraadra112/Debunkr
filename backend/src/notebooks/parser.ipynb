{
 "cells": [
  {
   "cell_type": "markdown",
   "id": "dad4e22a",
   "metadata": {},
   "source": [
    "# **Parsers**\n",
    "\n",
    "This notebook explores the various methods on how to properly parse links, text files, pdfs, and text itself from the frontend. In this notebook, we will:\n",
    "\n",
    "- Parse links using `Trafilatura`, pdf's as raw bytes using `PyMuPDF`, and text itself as string.\n",
    "- Create a preprocessing pipeline (method), based on the `model_dev.ipynb`\n",
    "- Perform inference on sample data using the Random Forests Classifier with LIME"
   ]
  },
  {
   "cell_type": "markdown",
   "id": "adef2ef0",
   "metadata": {},
   "source": [
    "## **OBJECTIVE 1.1:** Parse links using `Trafilatura`"
   ]
  },
  {
   "cell_type": "code",
   "execution_count": 1,
   "id": "23817e56",
   "metadata": {},
   "outputs": [],
   "source": [
    "import trafilatura\n",
    "\n",
    "url = 'https://www.gmanetwork.com/news/topstories/nation/943939/sara-duterte-hints-2028-run-isko-moreno-rally/story/'\n",
    "downloaded = trafilatura.fetch_url(url)\n",
    "result = trafilatura.extract(downloaded, output_format='txt')"
   ]
  },
  {
   "cell_type": "code",
   "execution_count": 2,
   "id": "8b9ccb96",
   "metadata": {},
   "outputs": [
    {
     "name": "stdout",
     "output_type": "stream",
     "text": [
      "Sara Duterte hints at 2028 run at Isko rally Vice President Sara Duterte once again teased about her supposed plans for the 2028 presidential elections during the campaign rally of Manila mayoral candidate Isko Moreno on Thursday night While delivering her speech Duterte removed the seal of the Office of the Vice President OVP from the lectern saying that she will replace it with a seal of the Office of the President This drew applause and cheers from the crowd Tinanggal ko lang kasi iba kasi 'yung opisina iba rin 'yung pangangampanya Pero kung sa pangulo lang pumili na lang kayo si Isko Moreno o si Sara Duterte wala kaming problema she said I removed the seal because my work is different from campaigning But if you will choose a president it s either me or Isko Moreno we don t have a problem with that To recall Duterte said last January that she was seriously considering to run in the 2028 presidential elections However when asked for a clarification on Thursday if she was now sure of running for presidency Duterte replied Siguro kilala na ako ng mga tao ngayon 'no So dapat siguro mag distinguish tayo kung ano 'yung joke at ano 'yung hindi joke dahil matagal na rin tayo magkasama lahat matagal na rin ako nakikita ng sambayanan sa national stage So naiintindihan na nila kung ano 'yung joke at ano 'yung hindi joke People already know me by now They should be able to distinguish if what I'm saying is a joke or not because we've been together for a long time People have been seeing me on the national stage since then so I think they already understand During the same rally Duterte also quipped that Senator Imee Marcos sister of President Ferdinand Bongbong Marcos Jr should change her last name The senator who was also present in the event laughed off the Vice President s remarks Duterte's endorsement of Imee Marcos came just weeks after the senator withdrew from her brother's senatorial slate Senator Marcos has distanced herself from the administration citing differences in values and principles particularly in the arrest of former President Rodrigo Duterte Sara's father President Marcos and Duterte were running mates in the 2022 elections but their relationship soured after the House of Representatives began questioning her use of confidential and intelligence funds The House Committee on Good Government and Public Accountability has launched an investigation into the alleged questionable budget use of the Office of the Vice President and the Department of Education which Duterte had led The House of Representatives has endorsed an impeachment complaint against the Vice President over these issues among others She has consistently denied any wrongdoing VDV GMA Integrated News For more Eleksyon 2025 related content and updates visit GMA News Online's Eleksyon 2025 microsite\n"
     ]
    }
   ],
   "source": [
    "import re\n",
    "\n",
    "cleaned_text = re.sub(r\"[^\\w\\s']\", ' ', result) # Step 1: Remove non-alphanumeric characters except for the aphostrophe\n",
    "cleaned_text = re.sub(r'[\\t\\n\\r\\f\\v]', ' ', cleaned_text)  # Step 2: Replace tabs/newlines with spaces\n",
    "cleaned_text = re.sub(r'\\s+', ' ', cleaned_text)  # Step 3: Normalize multiple spaces into one\n",
    "\n",
    "print(cleaned_text.strip())"
   ]
  },
  {
   "cell_type": "code",
   "execution_count": 3,
   "id": "559bc9a5",
   "metadata": {},
   "outputs": [],
   "source": [
    "# perform inference on provided link\n",
    "from joblib import load\n",
    "vectorizer = load('./serialized/tfidf-vectorizer.pkl')\n",
    "rf = load('./serialized/models/RandomForestClassifier.pkl')"
   ]
  },
  {
   "cell_type": "code",
   "execution_count": 4,
   "id": "04c20761",
   "metadata": {},
   "outputs": [
    {
     "name": "stderr",
     "output_type": "stream",
     "text": [
      "c:\\Users\\admin\\Desktop\\Classes\\2nd sem\\NLP\\NLP Finals\\backend\\.venv\\Lib\\site-packages\\spacy\\util.py:918: UserWarning: [W094] Model 'tl_calamancy_md' (0.2.0) specifies an under-constrained spaCy version requirement: >=3.8.3. This can lead to compatibility problems with older versions, or as new spaCy versions are released, because the model may say it's compatible when it's not. Consider changing the \"spacy_version\" in your meta.json to a version range, with a lower and upper pin. For example: >=3.8.5,<3.9.0\n",
      "  warnings.warn(warn_msg)\n",
      "c:\\Users\\admin\\Desktop\\Classes\\2nd sem\\NLP\\NLP Finals\\backend\\.venv\\Lib\\site-packages\\tqdm\\auto.py:21: TqdmWarning: IProgress not found. Please update jupyter and ipywidgets. See https://ipywidgets.readthedocs.io/en/stable/user_install.html\n",
      "  from .autonotebook import tqdm as notebook_tqdm\n",
      "c:\\Users\\admin\\Desktop\\Classes\\2nd sem\\NLP\\NLP Finals\\backend\\.venv\\Lib\\site-packages\\transformers\\utils\\generic.py:441: FutureWarning: `torch.utils._pytree._register_pytree_node` is deprecated. Please use `torch.utils._pytree.register_pytree_node` instead.\n",
      "  _torch_pytree._register_pytree_node(\n",
      "c:\\Users\\admin\\Desktop\\Classes\\2nd sem\\NLP\\NLP Finals\\backend\\.venv\\Lib\\site-packages\\transformers\\utils\\generic.py:309: FutureWarning: `torch.utils._pytree._register_pytree_node` is deprecated. Please use `torch.utils._pytree.register_pytree_node` instead.\n",
      "  _torch_pytree._register_pytree_node(\n"
     ]
    }
   ],
   "source": [
    "import calamancy\n",
    "nlp = calamancy.load(\"tl_calamancy_md-0.2.0\") # load in states in future due to slow loading time"
   ]
  },
  {
   "cell_type": "code",
   "execution_count": 5,
   "id": "ba93ed1f",
   "metadata": {},
   "outputs": [],
   "source": [
    "import string\n",
    "from nltk.tokenize import word_tokenize\n",
    "from pathlib import Path\n",
    "\n",
    "# save in state\n",
    "def load_stopwords(path: Path = \"./stopwords-tl.txt\"):\n",
    "    with open(path, \"r\", encoding=\"utf-8\") as f:\n",
    "        return [line.strip() for line in f.readlines()]\n",
    "\n",
    "def preprocess_text(txt: str, calamancy_model, tl_stopwords):\n",
    "    # convert text to lowercase\n",
    "    lower_text = txt.lower()\n",
    "\n",
    "    # remove punctuation\n",
    "    no_punc = lower_text.translate(str.maketrans('', '', string.punctuation))\n",
    "\n",
    "    # tokenize\n",
    "    tokenized = word_tokenize(no_punc)\n",
    "\n",
    "    # remove stopwords\n",
    "    tokens_no_stopword = [token for token in tokenized if token not in tl_stopwords]\n",
    "\n",
    "    # join for NLP model\n",
    "    res = ' '.join(tokens_no_stopword)\n",
    "\n",
    "    # lemmatization using calamancy_model\n",
    "    doc = calamancy_model(res)\n",
    "    tokens = [token.lemma_ for token in doc]\n",
    "\n",
    "    return tokens"
   ]
  },
  {
   "cell_type": "code",
   "execution_count": 6,
   "id": "92ddba10",
   "metadata": {},
   "outputs": [],
   "source": [
    "stopwords = load_stopwords()\n",
    "tokens = preprocess_text(cleaned_text, nlp, stopwords)\n",
    "preprocessed = ' '.join(tokens)"
   ]
  },
  {
   "cell_type": "code",
   "execution_count": 7,
   "id": "ea6b2545",
   "metadata": {},
   "outputs": [
    {
     "data": {
      "text/plain": [
       "'sara duterte hint 2028 run isko rally vice president sara duterte once again teased about her supposed plans for the 2028 presidential election during the campaign rally of manila mayoral candidate isko moreno on thursday night while deliver her speech duterte removed the seal of the office of the vice president ovp from the lectern saying that she will replace it with a seal of the office of the president this drew applause and cheers from the crowd tanggal lang kasi kasi iyon opisina din iyon kampanya pangulo lang pili lang kayo si isko moreno si sara duterte wala kami na problema she said i removed the seal because my work is different from campaigning but if you will choose a president it sa either me or isko moreno we don t have a problem with that to recall duterte said last january that she was seriously considering to run in the 2028 presidential election however when asked for a clarification on thursday if she was now sure of running for presidency duterte replied siguro kilala tao no so siguro mag distinguish iyon na joke iyon joke tagal din sama tagal din kita sambayanan national stage so naiintindihan iyon joke iyon joke people already know me by now they should be able to distinguish if what im saying is a joke or not because weve been together for a long time people have been seeing me on the national stage since then so i think they already understand during the same rally duterte also quipped that senator imee marcos sister of president ferdinand bongbong marcos jr should change her last name the senator who was also present in the event laughed off the vice president s remarks dutertes endorsement of imee marcos came just weeks after the senator withdrew from her brothers senatorial slate senator marcos has distanced herself from the administration citing difference in values and principles particularly in the arrest of former president rodrigo duterte saras father president marcos and duterte were running mate in the 2022 election but their relationship soured after the house of representatives began question her use of confidential and intelligence funds the house committee on good government and public accountability has launched an investigation into the alleged questionable budget use of the office of the vice president and the department of education which duterte had led the house of representatives has endors an impeachment complaint against the vice president over these issues amo na others she has consistently denied any wrongdoing vdv gma integrated news for more eleksyon 2025 related content and updates visit gma news onlines eleksyon 2025 microsite'"
      ]
     },
     "execution_count": 7,
     "metadata": {},
     "output_type": "execute_result"
    }
   ],
   "source": [
    "preprocessed"
   ]
  },
  {
   "cell_type": "code",
   "execution_count": 8,
   "id": "93ca86d3",
   "metadata": {},
   "outputs": [],
   "source": [
    "input_tfidf = vectorizer.transform([preprocessed])\n",
    "pred = rf.predict(input_tfidf)"
   ]
  },
  {
   "cell_type": "code",
   "execution_count": 9,
   "id": "8ae6e886",
   "metadata": {},
   "outputs": [
    {
     "data": {
      "text/plain": [
       "array([1], dtype=int64)"
      ]
     },
     "execution_count": 9,
     "metadata": {},
     "output_type": "execute_result"
    }
   ],
   "source": [
    "pred # Real News-0, Fake-News-1"
   ]
  },
  {
   "cell_type": "code",
   "execution_count": 10,
   "id": "0b0cf630",
   "metadata": {},
   "outputs": [],
   "source": [
    "from lime.lime_text import LimeTextExplainer\n",
    "from sklearn.pipeline import make_pipeline\n",
    "\n",
    "# Wrap vectorizer and model into one pipeline\n",
    "c = make_pipeline(vectorizer, rf)\n",
    "\n",
    "class_names = [\"Real News\", \"Fake News\"] # 0, 1"
   ]
  },
  {
   "cell_type": "code",
   "execution_count": 11,
   "id": "fb4816f1",
   "metadata": {},
   "outputs": [],
   "source": [
    "explainer = LimeTextExplainer(class_names=class_names)\n",
    "exp = explainer.explain_instance(preprocessed, c.predict_proba, num_features=10)"
   ]
  },
  {
   "cell_type": "code",
   "execution_count": 13,
   "id": "6742974f",
   "metadata": {},
   "outputs": [
    {
     "data": {
      "text/plain": [
       "[('duterte', 0.049913386411017995),\n",
       " ('rodrigo', 0.04501168477587132),\n",
       " ('the', 0.03943759079112869),\n",
       " ('kayo', 0.03437595356533199),\n",
       " ('pangulo', 0.033658622028086116),\n",
       " ('senatorial', 0.0324378127275591),\n",
       " ('iyon', 0.03024167572050168),\n",
       " ('kita', 0.029089377737817144),\n",
       " ('news', 0.027197114232640547),\n",
       " ('candidate', 0.0261643034756546)]"
      ]
     },
     "execution_count": 13,
     "metadata": {},
     "output_type": "execute_result"
    }
   ],
   "source": [
    "exp.as_list()"
   ]
  },
  {
   "cell_type": "code",
   "execution_count": 36,
   "id": "cff83de4",
   "metadata": {},
   "outputs": [],
   "source": [
    "exp.save_to_file('./figures/gma_news.html')"
   ]
  },
  {
   "cell_type": "markdown",
   "id": "0eaa25f5",
   "metadata": {},
   "source": [
    "## ## **OBJECTIVE 1.2:** Parse PDF Files"
   ]
  },
  {
   "cell_type": "code",
   "execution_count": 37,
   "id": "f7e07b1a",
   "metadata": {},
   "outputs": [
    {
     "name": "stdout",
     "output_type": "stream",
     "text": [
      "PILIPINAS, NAGTAGUMPAY SA KAUNA-UNAHANG MISYON NG PAGPAPATUBO NG HALAMAN SA \n",
      "BUWAN \n",
      "Maynila, Pilipinas — Sa isang makasaysayang anunsyo ngayong araw, ipinahayag ng Philippine Space \n",
      "and Agriculture Agency (PSAA) ang matagumpay na pagpapalago ng halamang malunggay sa ibabaw \n",
      "ng buwan, isang hakbang na tinaguriang \"monumental achievement\" sa larangan ng agham at \n",
      "teknolohiya. \n",
      "Ayon kay Dr. Feliciano Robles, punong siyentipiko ng misyon, ang proyekto na tinawag na Project \n",
      "Gulaylaktik ay bahagi ng mas malawak na plano ng pamahalaan upang palawakin ang food \n",
      "sustainability program sa labas ng Earth. Gamit ang isang makabagong lunar greenhouse na \n",
      "inimbento sa loob ng tatlong buwan, nagawa ng mga Pilipinong siyentipiko na pasibulin ang unang \n",
      "buto ng malunggay sa mabatong kapaligiran ng buwan. \n",
      "\"Ang malunggay, na kilala sa taglay nitong mataas na nutrisyon, ay napili dahil sa kakayahan nitong \n",
      "mabuhay sa mahihirap na kondisyon. Sa pamamagitan ng teknolohiyang hydroponics at lunar nutrient \n",
      "infusion, napatunayan natin na posible ang pagtatanim sa ibang planeta,\" pahayag ni Dr. Robles sa \n",
      "isang press briefing. \n",
      "Ikinatuwa ng buong bansa ang balita, at agad naglabas ng pahayag si Pangulong Andres Dela Cruz, na \n",
      "nagsabing, \"Isang patunay ito na kayang makipagsabayan ng Pilipinas sa larangan ng space \n",
      "exploration. Tayo na ang magiging unang supplier ng malunggay sa kalawakan.\" \n",
      "Samantala, inihahanda na ng PSAA ang ikalawang misyon — ang pagtatayo ng unang kwek-kwek stall \n",
      "sa lunar orbit, upang maipakilala ang pagkaing kalye ng Pilipinas sa buong kalawakan. \n",
      "Patuloy namang hinihikayat ang mga kabataan na mag-aral ng agham, teknolohiya, at agrikultura \n",
      "upang maging bahagi ng susunod na henerasyon ng \"space farmers.\" \n",
      "\n"
     ]
    }
   ],
   "source": [
    "import fitz  # PyMuPDF\n",
    "\n",
    "with open('sample_file.pdf', 'rb') as f:\n",
    "    pdf_bytes = f.read() # open pdf as raw bytes\n",
    "\n",
    "# Load PDF directly from bytes\n",
    "doc = fitz.open(stream=pdf_bytes, filetype='pdf')\n",
    "\n",
    "# Extract text from each page\n",
    "full_text = \"\"\n",
    "for page in doc:\n",
    "    full_text += page.get_text()\n",
    "\n",
    "print(full_text)"
   ]
  },
  {
   "cell_type": "code",
   "execution_count": 38,
   "id": "53cfafff",
   "metadata": {},
   "outputs": [],
   "source": [
    "pdf_text = preprocess_text(full_text, nlp, stopwords)\n",
    "pdf_preprocessed = ' '.join(pdf_text)"
   ]
  },
  {
   "cell_type": "code",
   "execution_count": 39,
   "id": "8c28515b",
   "metadata": {},
   "outputs": [
    {
     "data": {
      "text/plain": [
       "'pilipinas tagumpay kaunaunahang misyon pagpapatubo halaman buwan maynila pilipinas — saysaya na anunsyo ngayon na araw hayag philippine space and agriculture agency psaa tagumpay pagpapalago halamang malunggay buwan hakbang taguri na monumental achievement larang agham teknolohiya ayon kay dr feliciano robles punong siyentipiko misyon proyekto tawag project gulaylaktik bahagi mas lawak plano pamahalaan upang palawakin food sustainability program labas earth gamit bago na lunar greenhouse mbento loob tatlo na buwan gawa pilipino na siyentipiko sibul una na buto malunggay bato na ligid buwan malunggay kilala taglay nito na taas nutrisyon pili kaya nito na buhay hirap kondisyon teknolohiya na hydroponics lunar nutrient infusion tunay natin posible pagtatanim iba na planeta hayag dr robles press briefing tuwa buo na bansa balita agad labas hayag si pangulo na andres dela cruz sabi na tunay kaya na sabay pilipinas larang space exploration maging una na supplier malunggay lawakan samantala handa psaa dalawa na misyon — tayo una na kwekkwek stall lunar orbit upang maipakilala kain na kalye pilipinas buo na kalawakan patuloy naman na hinihikayat bata magaral agham teknolohiya agrikultura upang bahagi sunod henerasyon space farmer'"
      ]
     },
     "execution_count": 39,
     "metadata": {},
     "output_type": "execute_result"
    }
   ],
   "source": [
    "pdf_preprocessed"
   ]
  },
  {
   "cell_type": "code",
   "execution_count": 41,
   "id": "de8a39a8",
   "metadata": {},
   "outputs": [],
   "source": [
    "pdf_tfidf = vectorizer.transform([pdf_preprocessed])\n",
    "pdf_pred = rf.predict(pdf_tfidf)"
   ]
  },
  {
   "cell_type": "code",
   "execution_count": 42,
   "id": "34ec7e05",
   "metadata": {},
   "outputs": [
    {
     "data": {
      "text/plain": [
       "array([1], dtype=int64)"
      ]
     },
     "execution_count": 42,
     "metadata": {},
     "output_type": "execute_result"
    }
   ],
   "source": [
    "pdf_pred"
   ]
  },
  {
   "cell_type": "code",
   "execution_count": 44,
   "id": "fba2d356",
   "metadata": {},
   "outputs": [],
   "source": [
    "exp = explainer.explain_instance(pdf_preprocessed, c.predict_proba, num_features=10)\n",
    "exp.save_to_file('./figures/sample_file_lime.html')"
   ]
  },
  {
   "cell_type": "code",
   "execution_count": null,
   "id": "1614e956",
   "metadata": {},
   "outputs": [],
   "source": []
  }
 ],
 "metadata": {
  "kernelspec": {
   "display_name": "NLP Finals Environment",
   "language": "python",
   "name": "venv"
  },
  "language_info": {
   "codemirror_mode": {
    "name": "ipython",
    "version": 3
   },
   "file_extension": ".py",
   "mimetype": "text/x-python",
   "name": "python",
   "nbconvert_exporter": "python",
   "pygments_lexer": "ipython3",
   "version": "3.11.1"
  }
 },
 "nbformat": 4,
 "nbformat_minor": 5
}
